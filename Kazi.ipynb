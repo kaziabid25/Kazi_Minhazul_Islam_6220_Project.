{
  "nbformat": 4,
  "nbformat_minor": 0,
  "metadata": {
    "colab": {
      "provenance": [],
      "toc_visible": true,
      "mount_file_id": "1rli_jCy39_209ovO3zLf1qkN_5wD0oUY",
      "authorship_tag": "ABX9TyNFg6BHona9zaUq9NGp1vi5",
      "include_colab_link": true
    },
    "kernelspec": {
      "name": "python3",
      "display_name": "Python 3"
    },
    "language_info": {
      "name": "python"
    }
  },
  "cells": [
    {
      "cell_type": "markdown",
      "metadata": {
        "id": "view-in-github",
        "colab_type": "text"
      },
      "source": [
        "<a href=\"https://colab.research.google.com/github/kaziabid25/Kazi_Minhazul_Islam_6220_Project./blob/main/Kazi.ipynb\" target=\"_parent\"><img src=\"https://colab.research.google.com/assets/colab-badge.svg\" alt=\"Open In Colab\"/></a>"
      ]
    },
    {
      "cell_type": "code",
      "execution_count": 4,
      "metadata": {
        "id": "ZSeYgjtV1JWx"
      },
      "outputs": [],
      "source": [
        "import pandas as pd"
      ]
    }
  ]
}